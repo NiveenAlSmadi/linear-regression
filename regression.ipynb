{
 "cells": [
  {
   "cell_type": "markdown",
   "id": "db7f12c3-23c6-4384-8fee-41d27e5619cb",
   "metadata": {},
   "source": [
    "## Exploratory Analysis with Linear Regressions\n",
    "_______________________________________________________________________________________\n",
    "### Data Set Name : Students Score Dataset and Student Graduation Rate - Linear Regression\n",
    "### Author: Niveen Alsmadi\n",
    "### Date: 22-June-2021"
   ]
  },
  {
   "cell_type": "code",
   "execution_count": 1,
   "id": "59c63f83-280f-4866-8d00-46c49235e237",
   "metadata": {},
   "outputs": [],
   "source": [
    "import pandas as pd\n",
    "import numpy as np\n",
    "import matplotlib.pyplot as plt\n",
    "from sklearn.linear_model import LinearRegression\n",
    "from sklearn.model_selection import train_test_split"
   ]
  },
  {
   "cell_type": "markdown",
   "id": "77ce8cb6-d2f4-447f-bb47-cc2e57808905",
   "metadata": {},
   "source": [
    "### Load the data you receive into a Pandas DataFrame."
   ]
  },
  {
   "cell_type": "code",
   "execution_count": 2,
   "id": "00f7ffc6-527b-4ed2-980a-e40c8225771e",
   "metadata": {},
   "outputs": [],
   "source": [
    "DataFrame = pd.read_csv('student_scores.csv')\n",
    "DataFrame1 = pd.read_csv('graduation_rate.csv')"
   ]
  },
  {
   "cell_type": "markdown",
   "id": "b31c8bee-68da-4ed3-9f90-b06172b97a34",
   "metadata": {},
   "source": [
    "### Show the first five rows of the data set."
   ]
  },
  {
   "cell_type": "code",
   "execution_count": 3,
   "id": "a75cb933-6a6a-45e2-aeb1-de9944982bb4",
   "metadata": {},
   "outputs": [
    {
     "data": {
      "text/html": [
       "<div>\n",
       "<style scoped>\n",
       "    .dataframe tbody tr th:only-of-type {\n",
       "        vertical-align: middle;\n",
       "    }\n",
       "\n",
       "    .dataframe tbody tr th {\n",
       "        vertical-align: top;\n",
       "    }\n",
       "\n",
       "    .dataframe thead th {\n",
       "        text-align: right;\n",
       "    }\n",
       "</style>\n",
       "<table border=\"1\" class=\"dataframe\">\n",
       "  <thead>\n",
       "    <tr style=\"text-align: right;\">\n",
       "      <th></th>\n",
       "      <th>Hours</th>\n",
       "      <th>Scores</th>\n",
       "    </tr>\n",
       "  </thead>\n",
       "  <tbody>\n",
       "    <tr>\n",
       "      <th>0</th>\n",
       "      <td>2.5</td>\n",
       "      <td>21</td>\n",
       "    </tr>\n",
       "    <tr>\n",
       "      <th>1</th>\n",
       "      <td>5.1</td>\n",
       "      <td>47</td>\n",
       "    </tr>\n",
       "    <tr>\n",
       "      <th>2</th>\n",
       "      <td>3.2</td>\n",
       "      <td>27</td>\n",
       "    </tr>\n",
       "    <tr>\n",
       "      <th>3</th>\n",
       "      <td>8.5</td>\n",
       "      <td>75</td>\n",
       "    </tr>\n",
       "    <tr>\n",
       "      <th>4</th>\n",
       "      <td>3.5</td>\n",
       "      <td>30</td>\n",
       "    </tr>\n",
       "  </tbody>\n",
       "</table>\n",
       "</div>"
      ],
      "text/plain": [
       "   Hours  Scores\n",
       "0    2.5      21\n",
       "1    5.1      47\n",
       "2    3.2      27\n",
       "3    8.5      75\n",
       "4    3.5      30"
      ]
     },
     "execution_count": 3,
     "metadata": {},
     "output_type": "execute_result"
    }
   ],
   "source": [
    "DataFrame.head()"
   ]
  },
  {
   "cell_type": "code",
   "execution_count": 4,
   "id": "b681a724-4d15-4681-97c3-733919095501",
   "metadata": {},
   "outputs": [
    {
     "data": {
      "text/html": [
       "<div>\n",
       "<style scoped>\n",
       "    .dataframe tbody tr th:only-of-type {\n",
       "        vertical-align: middle;\n",
       "    }\n",
       "\n",
       "    .dataframe tbody tr th {\n",
       "        vertical-align: top;\n",
       "    }\n",
       "\n",
       "    .dataframe thead th {\n",
       "        text-align: right;\n",
       "    }\n",
       "</style>\n",
       "<table border=\"1\" class=\"dataframe\">\n",
       "  <thead>\n",
       "    <tr style=\"text-align: right;\">\n",
       "      <th></th>\n",
       "      <th>ACT composite score</th>\n",
       "      <th>SAT total score</th>\n",
       "      <th>parental level of education</th>\n",
       "      <th>parental income</th>\n",
       "      <th>high school gpa</th>\n",
       "      <th>college gpa</th>\n",
       "      <th>years to graduate</th>\n",
       "    </tr>\n",
       "  </thead>\n",
       "  <tbody>\n",
       "    <tr>\n",
       "      <th>0</th>\n",
       "      <td>30</td>\n",
       "      <td>2206</td>\n",
       "      <td>master's degree</td>\n",
       "      <td>94873</td>\n",
       "      <td>4.0</td>\n",
       "      <td>3.8</td>\n",
       "      <td>3</td>\n",
       "    </tr>\n",
       "    <tr>\n",
       "      <th>1</th>\n",
       "      <td>26</td>\n",
       "      <td>1953</td>\n",
       "      <td>some college</td>\n",
       "      <td>42767</td>\n",
       "      <td>3.6</td>\n",
       "      <td>2.7</td>\n",
       "      <td>9</td>\n",
       "    </tr>\n",
       "    <tr>\n",
       "      <th>2</th>\n",
       "      <td>28</td>\n",
       "      <td>2115</td>\n",
       "      <td>some high school</td>\n",
       "      <td>46316</td>\n",
       "      <td>4.0</td>\n",
       "      <td>3.3</td>\n",
       "      <td>5</td>\n",
       "    </tr>\n",
       "    <tr>\n",
       "      <th>3</th>\n",
       "      <td>33</td>\n",
       "      <td>2110</td>\n",
       "      <td>some high school</td>\n",
       "      <td>52370</td>\n",
       "      <td>4.0</td>\n",
       "      <td>3.5</td>\n",
       "      <td>4</td>\n",
       "    </tr>\n",
       "    <tr>\n",
       "      <th>4</th>\n",
       "      <td>30</td>\n",
       "      <td>2168</td>\n",
       "      <td>bachelor's degree</td>\n",
       "      <td>92665</td>\n",
       "      <td>4.0</td>\n",
       "      <td>3.6</td>\n",
       "      <td>4</td>\n",
       "    </tr>\n",
       "  </tbody>\n",
       "</table>\n",
       "</div>"
      ],
      "text/plain": [
       "   ACT composite score  SAT total score parental level of education  \\\n",
       "0                   30             2206             master's degree   \n",
       "1                   26             1953                some college   \n",
       "2                   28             2115            some high school   \n",
       "3                   33             2110            some high school   \n",
       "4                   30             2168           bachelor's degree   \n",
       "\n",
       "   parental income  high school gpa  college gpa  years to graduate  \n",
       "0            94873              4.0          3.8                  3  \n",
       "1            42767              3.6          2.7                  9  \n",
       "2            46316              4.0          3.3                  5  \n",
       "3            52370              4.0          3.5                  4  \n",
       "4            92665              4.0          3.6                  4  "
      ]
     },
     "execution_count": 4,
     "metadata": {},
     "output_type": "execute_result"
    }
   ],
   "source": [
    "DataFrame1.head()"
   ]
  },
  {
   "cell_type": "markdown",
   "id": "5b9a406e-5336-4655-9b4c-cc5153ceedee",
   "metadata": {},
   "source": [
    "### Show the description and the info of the data set."
   ]
  },
  {
   "cell_type": "code",
   "execution_count": 5,
   "id": "058ae3ff-bece-445c-b273-b8dcf994785c",
   "metadata": {},
   "outputs": [
    {
     "data": {
      "text/html": [
       "<div>\n",
       "<style scoped>\n",
       "    .dataframe tbody tr th:only-of-type {\n",
       "        vertical-align: middle;\n",
       "    }\n",
       "\n",
       "    .dataframe tbody tr th {\n",
       "        vertical-align: top;\n",
       "    }\n",
       "\n",
       "    .dataframe thead th {\n",
       "        text-align: right;\n",
       "    }\n",
       "</style>\n",
       "<table border=\"1\" class=\"dataframe\">\n",
       "  <thead>\n",
       "    <tr style=\"text-align: right;\">\n",
       "      <th></th>\n",
       "      <th>Hours</th>\n",
       "      <th>Scores</th>\n",
       "    </tr>\n",
       "  </thead>\n",
       "  <tbody>\n",
       "    <tr>\n",
       "      <th>count</th>\n",
       "      <td>25.000000</td>\n",
       "      <td>25.000000</td>\n",
       "    </tr>\n",
       "    <tr>\n",
       "      <th>mean</th>\n",
       "      <td>5.012000</td>\n",
       "      <td>51.480000</td>\n",
       "    </tr>\n",
       "    <tr>\n",
       "      <th>std</th>\n",
       "      <td>2.525094</td>\n",
       "      <td>25.286887</td>\n",
       "    </tr>\n",
       "    <tr>\n",
       "      <th>min</th>\n",
       "      <td>1.100000</td>\n",
       "      <td>17.000000</td>\n",
       "    </tr>\n",
       "    <tr>\n",
       "      <th>25%</th>\n",
       "      <td>2.700000</td>\n",
       "      <td>30.000000</td>\n",
       "    </tr>\n",
       "    <tr>\n",
       "      <th>50%</th>\n",
       "      <td>4.800000</td>\n",
       "      <td>47.000000</td>\n",
       "    </tr>\n",
       "    <tr>\n",
       "      <th>75%</th>\n",
       "      <td>7.400000</td>\n",
       "      <td>75.000000</td>\n",
       "    </tr>\n",
       "    <tr>\n",
       "      <th>max</th>\n",
       "      <td>9.200000</td>\n",
       "      <td>95.000000</td>\n",
       "    </tr>\n",
       "  </tbody>\n",
       "</table>\n",
       "</div>"
      ],
      "text/plain": [
       "           Hours     Scores\n",
       "count  25.000000  25.000000\n",
       "mean    5.012000  51.480000\n",
       "std     2.525094  25.286887\n",
       "min     1.100000  17.000000\n",
       "25%     2.700000  30.000000\n",
       "50%     4.800000  47.000000\n",
       "75%     7.400000  75.000000\n",
       "max     9.200000  95.000000"
      ]
     },
     "execution_count": 5,
     "metadata": {},
     "output_type": "execute_result"
    }
   ],
   "source": [
    "DataFrame.describe()"
   ]
  },
  {
   "cell_type": "code",
   "execution_count": 6,
   "id": "412a32cf-826a-4d07-94f3-377e69ff79b0",
   "metadata": {},
   "outputs": [
    {
     "data": {
      "text/html": [
       "<div>\n",
       "<style scoped>\n",
       "    .dataframe tbody tr th:only-of-type {\n",
       "        vertical-align: middle;\n",
       "    }\n",
       "\n",
       "    .dataframe tbody tr th {\n",
       "        vertical-align: top;\n",
       "    }\n",
       "\n",
       "    .dataframe thead th {\n",
       "        text-align: right;\n",
       "    }\n",
       "</style>\n",
       "<table border=\"1\" class=\"dataframe\">\n",
       "  <thead>\n",
       "    <tr style=\"text-align: right;\">\n",
       "      <th></th>\n",
       "      <th>ACT composite score</th>\n",
       "      <th>SAT total score</th>\n",
       "      <th>parental income</th>\n",
       "      <th>high school gpa</th>\n",
       "      <th>college gpa</th>\n",
       "      <th>years to graduate</th>\n",
       "    </tr>\n",
       "  </thead>\n",
       "  <tbody>\n",
       "    <tr>\n",
       "      <th>count</th>\n",
       "      <td>1000.000000</td>\n",
       "      <td>1000.000000</td>\n",
       "      <td>1000.000000</td>\n",
       "      <td>1000.000000</td>\n",
       "      <td>1000.00000</td>\n",
       "      <td>1000.000000</td>\n",
       "    </tr>\n",
       "    <tr>\n",
       "      <th>mean</th>\n",
       "      <td>28.557000</td>\n",
       "      <td>1997.803000</td>\n",
       "      <td>66564.905000</td>\n",
       "      <td>3.712900</td>\n",
       "      <td>3.36990</td>\n",
       "      <td>4.992000</td>\n",
       "    </tr>\n",
       "    <tr>\n",
       "      <th>std</th>\n",
       "      <td>2.776051</td>\n",
       "      <td>142.736442</td>\n",
       "      <td>19451.865744</td>\n",
       "      <td>0.283415</td>\n",
       "      <td>0.23622</td>\n",
       "      <td>1.403533</td>\n",
       "    </tr>\n",
       "    <tr>\n",
       "      <th>min</th>\n",
       "      <td>19.000000</td>\n",
       "      <td>1498.000000</td>\n",
       "      <td>1882.000000</td>\n",
       "      <td>2.700000</td>\n",
       "      <td>2.70000</td>\n",
       "      <td>3.000000</td>\n",
       "    </tr>\n",
       "    <tr>\n",
       "      <th>25%</th>\n",
       "      <td>27.000000</td>\n",
       "      <td>1907.750000</td>\n",
       "      <td>53443.000000</td>\n",
       "      <td>3.500000</td>\n",
       "      <td>3.20000</td>\n",
       "      <td>4.000000</td>\n",
       "    </tr>\n",
       "    <tr>\n",
       "      <th>50%</th>\n",
       "      <td>29.000000</td>\n",
       "      <td>1999.000000</td>\n",
       "      <td>65441.000000</td>\n",
       "      <td>3.800000</td>\n",
       "      <td>3.40000</td>\n",
       "      <td>5.000000</td>\n",
       "    </tr>\n",
       "    <tr>\n",
       "      <th>75%</th>\n",
       "      <td>30.000000</td>\n",
       "      <td>2092.250000</td>\n",
       "      <td>79845.250000</td>\n",
       "      <td>4.000000</td>\n",
       "      <td>3.50000</td>\n",
       "      <td>6.000000</td>\n",
       "    </tr>\n",
       "    <tr>\n",
       "      <th>max</th>\n",
       "      <td>36.000000</td>\n",
       "      <td>2397.000000</td>\n",
       "      <td>120391.000000</td>\n",
       "      <td>4.000000</td>\n",
       "      <td>4.00000</td>\n",
       "      <td>10.000000</td>\n",
       "    </tr>\n",
       "  </tbody>\n",
       "</table>\n",
       "</div>"
      ],
      "text/plain": [
       "       ACT composite score  SAT total score  parental income  high school gpa  \\\n",
       "count          1000.000000      1000.000000      1000.000000      1000.000000   \n",
       "mean             28.557000      1997.803000     66564.905000         3.712900   \n",
       "std               2.776051       142.736442     19451.865744         0.283415   \n",
       "min              19.000000      1498.000000      1882.000000         2.700000   \n",
       "25%              27.000000      1907.750000     53443.000000         3.500000   \n",
       "50%              29.000000      1999.000000     65441.000000         3.800000   \n",
       "75%              30.000000      2092.250000     79845.250000         4.000000   \n",
       "max              36.000000      2397.000000    120391.000000         4.000000   \n",
       "\n",
       "       college gpa  years to graduate  \n",
       "count   1000.00000        1000.000000  \n",
       "mean       3.36990           4.992000  \n",
       "std        0.23622           1.403533  \n",
       "min        2.70000           3.000000  \n",
       "25%        3.20000           4.000000  \n",
       "50%        3.40000           5.000000  \n",
       "75%        3.50000           6.000000  \n",
       "max        4.00000          10.000000  "
      ]
     },
     "execution_count": 6,
     "metadata": {},
     "output_type": "execute_result"
    }
   ],
   "source": [
    "DataFrame1.describe()"
   ]
  },
  {
   "cell_type": "code",
   "execution_count": 7,
   "id": "00b0e82b-7618-48c1-8b44-afc3a970c25e",
   "metadata": {},
   "outputs": [
    {
     "name": "stdout",
     "output_type": "stream",
     "text": [
      "<class 'pandas.core.frame.DataFrame'>\n",
      "RangeIndex: 25 entries, 0 to 24\n",
      "Data columns (total 2 columns):\n",
      " #   Column  Non-Null Count  Dtype  \n",
      "---  ------  --------------  -----  \n",
      " 0   Hours   25 non-null     float64\n",
      " 1   Scores  25 non-null     int64  \n",
      "dtypes: float64(1), int64(1)\n",
      "memory usage: 528.0 bytes\n"
     ]
    }
   ],
   "source": [
    "DataFrame.info()"
   ]
  },
  {
   "cell_type": "code",
   "execution_count": 8,
   "id": "a2e1cb48-6521-457c-99ca-7767125422ae",
   "metadata": {},
   "outputs": [
    {
     "name": "stdout",
     "output_type": "stream",
     "text": [
      "<class 'pandas.core.frame.DataFrame'>\n",
      "RangeIndex: 1000 entries, 0 to 999\n",
      "Data columns (total 7 columns):\n",
      " #   Column                       Non-Null Count  Dtype  \n",
      "---  ------                       --------------  -----  \n",
      " 0   ACT composite score          1000 non-null   int64  \n",
      " 1   SAT total score              1000 non-null   int64  \n",
      " 2   parental level of education  1000 non-null   object \n",
      " 3   parental income              1000 non-null   int64  \n",
      " 4   high school gpa              1000 non-null   float64\n",
      " 5   college gpa                  1000 non-null   float64\n",
      " 6   years to graduate            1000 non-null   int64  \n",
      "dtypes: float64(2), int64(4), object(1)\n",
      "memory usage: 54.8+ KB\n"
     ]
    }
   ],
   "source": [
    "DataFrame1.info()"
   ]
  },
  {
   "cell_type": "markdown",
   "id": "83d1e906-590c-47ad-a361-584c81033bb0",
   "metadata": {},
   "source": [
    "### Using a regression model, split your data into train and test data."
   ]
  },
  {
   "cell_type": "code",
   "execution_count": 9,
   "id": "16c668da-a154-444e-b293-01d936e0d23d",
   "metadata": {},
   "outputs": [
    {
     "data": {
      "text/plain": [
       "array([2.5, 5.1, 3.2, 8.5, 3.5, 1.5, 9.2, 5.5, 8.3, 2.7, 7.7, 5.9, 4.5,\n",
       "       3.3, 1.1, 8.9, 2.5, 1.9, 6.1, 7.4, 2.7, 4.8, 3.8, 6.9, 7.8])"
      ]
     },
     "execution_count": 9,
     "metadata": {},
     "output_type": "execute_result"
    }
   ],
   "source": [
    "hours = DataFrame['Hours'].values\n",
    "hours"
   ]
  },
  {
   "cell_type": "code",
   "execution_count": 10,
   "id": "7f0a15e0-0686-4394-b665-32dbdc45f318",
   "metadata": {},
   "outputs": [
    {
     "data": {
      "text/plain": [
       "array([21, 47, 27, 75, 30, 20, 88, 60, 81, 25, 85, 62, 41, 42, 17, 95, 30,\n",
       "       24, 67, 69, 30, 54, 35, 76, 86])"
      ]
     },
     "execution_count": 10,
     "metadata": {},
     "output_type": "execute_result"
    }
   ],
   "source": [
    "scores = DataFrame['Scores'].values\n",
    "scores"
   ]
  },
  {
   "cell_type": "code",
   "execution_count": 11,
   "id": "d0480c52-2448-4cd2-9f63-a65a81e49e88",
   "metadata": {},
   "outputs": [
    {
     "data": {
      "text/plain": [
       "array([[2.5],\n",
       "       [5.1],\n",
       "       [3.2],\n",
       "       [8.5],\n",
       "       [3.5],\n",
       "       [1.5],\n",
       "       [9.2],\n",
       "       [5.5],\n",
       "       [8.3],\n",
       "       [2.7],\n",
       "       [7.7],\n",
       "       [5.9],\n",
       "       [4.5],\n",
       "       [3.3],\n",
       "       [1.1],\n",
       "       [8.9],\n",
       "       [2.5],\n",
       "       [1.9],\n",
       "       [6.1],\n",
       "       [7.4],\n",
       "       [2.7],\n",
       "       [4.8],\n",
       "       [3.8],\n",
       "       [6.9],\n",
       "       [7.8]])"
      ]
     },
     "execution_count": 11,
     "metadata": {},
     "output_type": "execute_result"
    }
   ],
   "source": [
    "hours= hours.reshape(-1,1)\n",
    "hours"
   ]
  },
  {
   "cell_type": "code",
   "execution_count": 12,
   "id": "45da86b6-3e28-4523-a1c1-0635978774d7",
   "metadata": {},
   "outputs": [],
   "source": [
    "hour_train, hour_test, score_train, score_test =train_test_split(hours, scores, train_size=0.8, test_size=0.2, random_state=40)\n"
   ]
  },
  {
   "cell_type": "markdown",
   "id": "ef631b7c-2d1a-4fae-ade3-6a25f36f9f92",
   "metadata": {},
   "source": [
    "### Fit your training split to the regression model."
   ]
  },
  {
   "cell_type": "code",
   "execution_count": 13,
   "id": "8267593d-0466-422e-9ad0-878af9059324",
   "metadata": {},
   "outputs": [
    {
     "data": {
      "text/plain": [
       "LinearRegression()"
      ]
     },
     "execution_count": 13,
     "metadata": {},
     "output_type": "execute_result"
    }
   ],
   "source": [
    "model = LinearRegression()\n",
    "model.fit(hour_train, score_train)"
   ]
  },
  {
   "cell_type": "code",
   "execution_count": 14,
   "id": "6697c847-24b3-4b25-af1a-2673dd6a2782",
   "metadata": {},
   "outputs": [
    {
     "data": {
      "text/plain": [
       "array([88.44663283, 77.73202788, 12.47034316, 73.83580789, 33.89955306])"
      ]
     },
     "execution_count": 14,
     "metadata": {},
     "output_type": "execute_result"
    }
   ],
   "source": [
    "y_predict = model.predict(hour_test)\n",
    "y_predict"
   ]
  },
  {
   "cell_type": "code",
   "execution_count": 15,
   "id": "dd36adee-186f-4b3c-b3ce-b1957987975c",
   "metadata": {},
   "outputs": [
    {
     "data": {
      "text/plain": [
       "array([95, 86, 17, 69, 42])"
      ]
     },
     "execution_count": 15,
     "metadata": {},
     "output_type": "execute_result"
    }
   ],
   "source": [
    "score_test"
   ]
  },
  {
   "cell_type": "code",
   "execution_count": 16,
   "id": "c598e095-704a-4d6c-98c4-6df890a28f83",
   "metadata": {},
   "outputs": [
    {
     "name": "stdout",
     "output_type": "stream",
     "text": [
      "Testing Accuracy: 94.66449081971943%\n",
      "Training Accuracy: 95.04931730009658%\n"
     ]
    }
   ],
   "source": [
    "print(f'Testing Accuracy: {model.score(hour_test, score_test)*100}%')\n",
    "print(f'Training Accuracy: {model.score(hour_train, score_train)*100}%')"
   ]
  },
  {
   "cell_type": "markdown",
   "id": "9c9252c2-ccb8-48e2-a1c7-d27acee16103",
   "metadata": {},
   "source": [
    "### Show your regression model’s score."
   ]
  },
  {
   "cell_type": "code",
   "execution_count": 17,
   "id": "fc4cdd5b-dd9c-4ada-b5f8-0d1e48a85e6b",
   "metadata": {},
   "outputs": [
    {
     "data": {
      "image/png": "[encoded data removed]",
      "text/plain": [
       "<Figure size 432x288 with 1 Axes>"
      ]
     },
     "metadata": {
      "needs_background": "light"
     },
     "output_type": "display_data"
    }
   ],
   "source": [
    "%matplotlib inline\n",
    "plt.scatter(hour_train, score_train, color='pink')\n",
    "plt.scatter(hour_test, score_test, color='purple')\n",
    "plt.plot(hour_test, y_predict, color='gray')\n",
    "plt.xlabel('Hours')\n",
    "plt.ylabel('Scores')\n",
    "plt.title('Training Data')\n",
    "plt.show()"
   ]
  },
  {
   "cell_type": "markdown",
   "id": "a493ca43-900d-4ae2-86f4-96ce15701107",
   "metadata": {},
   "source": [
    "#### Draw at least three conclusions from your regression model."
   ]
  },
  {
   "cell_type": "code",
   "execution_count": 18,
   "id": "f279ebae-7f14-436d-91cd-9b1b830a2a34",
   "metadata": {},
   "outputs": [
    {
     "data": {
      "text/html": [
       "<div>\n",
       "<style scoped>\n",
       "    .dataframe tbody tr th:only-of-type {\n",
       "        vertical-align: middle;\n",
       "    }\n",
       "\n",
       "    .dataframe tbody tr th {\n",
       "        vertical-align: top;\n",
       "    }\n",
       "\n",
       "    .dataframe thead th {\n",
       "        text-align: right;\n",
       "    }\n",
       "</style>\n",
       "<table border=\"1\" class=\"dataframe\">\n",
       "  <thead>\n",
       "    <tr style=\"text-align: right;\">\n",
       "      <th></th>\n",
       "      <th>ACT composite score</th>\n",
       "      <th>years to graduate</th>\n",
       "      <th>college gpa</th>\n",
       "      <th>high school gpa</th>\n",
       "      <th>parental income</th>\n",
       "      <th>SAT total score</th>\n",
       "    </tr>\n",
       "  </thead>\n",
       "  <tbody>\n",
       "    <tr>\n",
       "      <th>0</th>\n",
       "      <td>30</td>\n",
       "      <td>3</td>\n",
       "      <td>3.8</td>\n",
       "      <td>4.0</td>\n",
       "      <td>94873</td>\n",
       "      <td>2206</td>\n",
       "    </tr>\n",
       "    <tr>\n",
       "      <th>1</th>\n",
       "      <td>26</td>\n",
       "      <td>9</td>\n",
       "      <td>2.7</td>\n",
       "      <td>3.6</td>\n",
       "      <td>42767</td>\n",
       "      <td>1953</td>\n",
       "    </tr>\n",
       "    <tr>\n",
       "      <th>2</th>\n",
       "      <td>28</td>\n",
       "      <td>5</td>\n",
       "      <td>3.3</td>\n",
       "      <td>4.0</td>\n",
       "      <td>46316</td>\n",
       "      <td>2115</td>\n",
       "    </tr>\n",
       "    <tr>\n",
       "      <th>3</th>\n",
       "      <td>33</td>\n",
       "      <td>4</td>\n",
       "      <td>3.5</td>\n",
       "      <td>4.0</td>\n",
       "      <td>52370</td>\n",
       "      <td>2110</td>\n",
       "    </tr>\n",
       "    <tr>\n",
       "      <th>4</th>\n",
       "      <td>30</td>\n",
       "      <td>4</td>\n",
       "      <td>3.6</td>\n",
       "      <td>4.0</td>\n",
       "      <td>92665</td>\n",
       "      <td>2168</td>\n",
       "    </tr>\n",
       "    <tr>\n",
       "      <th>...</th>\n",
       "      <td>...</td>\n",
       "      <td>...</td>\n",
       "      <td>...</td>\n",
       "      <td>...</td>\n",
       "      <td>...</td>\n",
       "      <td>...</td>\n",
       "    </tr>\n",
       "    <tr>\n",
       "      <th>995</th>\n",
       "      <td>30</td>\n",
       "      <td>6</td>\n",
       "      <td>3.5</td>\n",
       "      <td>3.8</td>\n",
       "      <td>49002</td>\n",
       "      <td>1967</td>\n",
       "    </tr>\n",
       "    <tr>\n",
       "      <th>996</th>\n",
       "      <td>28</td>\n",
       "      <td>4</td>\n",
       "      <td>3.5</td>\n",
       "      <td>3.9</td>\n",
       "      <td>83438</td>\n",
       "      <td>2066</td>\n",
       "    </tr>\n",
       "    <tr>\n",
       "      <th>997</th>\n",
       "      <td>27</td>\n",
       "      <td>5</td>\n",
       "      <td>3.7</td>\n",
       "      <td>3.6</td>\n",
       "      <td>68577</td>\n",
       "      <td>1971</td>\n",
       "    </tr>\n",
       "    <tr>\n",
       "      <th>998</th>\n",
       "      <td>30</td>\n",
       "      <td>3</td>\n",
       "      <td>3.6</td>\n",
       "      <td>3.8</td>\n",
       "      <td>56876</td>\n",
       "      <td>2057</td>\n",
       "    </tr>\n",
       "    <tr>\n",
       "      <th>999</th>\n",
       "      <td>29</td>\n",
       "      <td>5</td>\n",
       "      <td>3.3</td>\n",
       "      <td>3.9</td>\n",
       "      <td>40068</td>\n",
       "      <td>2054</td>\n",
       "    </tr>\n",
       "  </tbody>\n",
       "</table>\n",
       "<p>1000 rows × 6 columns</p>\n",
       "</div>"
      ],
      "text/plain": [
       "     ACT composite score  years to graduate  college gpa  high school gpa  \\\n",
       "0                     30                  3          3.8              4.0   \n",
       "1                     26                  9          2.7              3.6   \n",
       "2                     28                  5          3.3              4.0   \n",
       "3                     33                  4          3.5              4.0   \n",
       "4                     30                  4          3.6              4.0   \n",
       "..                   ...                ...          ...              ...   \n",
       "995                   30                  6          3.5              3.8   \n",
       "996                   28                  4          3.5              3.9   \n",
       "997                   27                  5          3.7              3.6   \n",
       "998                   30                  3          3.6              3.8   \n",
       "999                   29                  5          3.3              3.9   \n",
       "\n",
       "     parental income  SAT total score  \n",
       "0              94873             2206  \n",
       "1              42767             1953  \n",
       "2              46316             2115  \n",
       "3              52370             2110  \n",
       "4              92665             2168  \n",
       "..               ...              ...  \n",
       "995            49002             1967  \n",
       "996            83438             2066  \n",
       "997            68577             1971  \n",
       "998            56876             2057  \n",
       "999            40068             2054  \n",
       "\n",
       "[1000 rows x 6 columns]"
      ]
     },
     "execution_count": 18,
     "metadata": {},
     "output_type": "execute_result"
    }
   ],
   "source": [
    "data=DataFrame1[[\"ACT composite score\",\"years to graduate\",\"college gpa\",\"high school gpa\",\"parental income\",\"SAT total score\"]]\n",
    "data"
   ]
  },
  {
   "cell_type": "markdown",
   "id": "e9077ef2-06aa-4d3a-b7fe-d5a3cd28017c",
   "metadata": {},
   "source": [
    "#### conclusion 1 : we can see that student with high gpa in high schoool have the same or higher gpa in college"
   ]
  },
  {
   "cell_type": "code",
   "execution_count": 19,
   "id": "fc536d0e-cce5-4fc1-8851-08d7f82ea6fd",
   "metadata": {},
   "outputs": [
    {
     "data": {
      "image/png": "[encoded data removed]",
      "text/plain": [
       "<Figure size 432x288 with 1 Axes>"
      ]
     },
     "metadata": {
      "needs_background": "light"
     },
     "output_type": "display_data"
    }
   ],
   "source": [
    "x = DataFrame1['high school gpa'].values.reshape(-1,1)\n",
    "\n",
    "y = DataFrame1['college gpa'].values\n",
    "\n",
    "x_train, x_test, y_train, y_test = train_test_split( x, y, train_size=0.3, test_size=0.7 ,random_state=40)\n",
    "\n",
    "model = LinearRegression()\n",
    "model.fit(x_train, y_train)\n",
    "\n",
    "y_predict = model.predict(x_test)\n",
    "plt.scatter(x_train, y_train, color='pink')\n",
    "plt.plot(x_test, y_predict, color='gray')\n",
    "plt.xlabel('high school gpa')\n",
    "plt.ylabel('college gpa')\n",
    "plt.title('Training Data')\n",
    "plt.show()"
   ]
  },
  {
   "cell_type": "markdown",
   "id": "924079c4-f061-416f-82d7-a65ddca32fca",
   "metadata": {},
   "source": [
    "#### conclusion 2 : we can also see parents of student who have a high income reflected positively in student gpa"
   ]
  },
  {
   "cell_type": "code",
   "execution_count": 20,
   "id": "2f358c06-08a4-4764-8c19-f7b697494768",
   "metadata": {},
   "outputs": [
    {
     "data": {
      "image/png": "[encoded data removed]",
      "text/plain": [
       "<Figure size 432x288 with 1 Axes>"
      ]
     },
     "metadata": {
      "needs_background": "light"
     },
     "output_type": "display_data"
    }
   ],
   "source": [
    "x = DataFrame1['parental income'].values.reshape(-1,1)\n",
    "\n",
    "y = DataFrame1['college gpa'].values\n",
    "\n",
    "x_train, x_test, y_train, y_test = train_test_split( x, y, train_size=0.8, test_size=0.2,random_state=13)\n",
    "\n",
    "model = LinearRegression()\n",
    "model.fit(x_train, y_train)\n",
    "\n",
    "y_predict = model.predict(x_test)\n",
    "plt.scatter(x_train, y_train, color='pink')\n",
    "plt.plot(x_test, y_predict, color='gray')\n",
    "plt.xlabel('parental income')\n",
    "plt.ylabel('high school gpa')\n",
    "plt.title('Training Data')\n",
    "plt.show()"
   ]
  },
  {
   "cell_type": "markdown",
   "id": "0684be1e-bdd2-4a33-bb22-f6c648044f75",
   "metadata": {},
   "source": [
    "#### conclusion 3 : we can see when ACT score increse the SAT increase"
   ]
  },
  {
   "cell_type": "code",
   "execution_count": 21,
   "id": "ccbbd669-a37c-4219-8178-186de8021082",
   "metadata": {},
   "outputs": [
    {
     "data": {
      "image/png": "[encoded data removed]",
      "text/plain": [
       "<Figure size 432x288 with 1 Axes>"
      ]
     },
     "metadata": {
      "needs_background": "light"
     },
     "output_type": "display_data"
    }
   ],
   "source": [
    "x = DataFrame1['ACT composite score'].values.reshape(-1,1)\n",
    "\n",
    "y = DataFrame1['SAT total score'].values\n",
    "\n",
    "x_train, x_test, y_train, y_test = train_test_split( x, y, train_size=0.7, test_size=0.3,random_state=50)\n",
    "\n",
    "model = LinearRegression()\n",
    "model.fit(x_train, y_train)\n",
    "\n",
    "y_predict = model.predict(x_test)\n",
    "plt.scatter(x_train, y_train, color='pink')\n",
    "plt.plot(x_test, y_predict, color='gray')\n",
    "plt.xlabel('ACT')\n",
    "plt.ylabel('SAT')\n",
    "plt.title('Training Data')\n",
    "plt.show()"
   ]
  }
 ],
 "metadata": {
  "kernelspec": {
   "display_name": "Python 3",
   "language": "python",
   "name": "python3"
  },
  "language_info": {
   "codemirror_mode": {
    "name": "ipython",
    "version": 3
   },
   "file_extension": ".py",
   "mimetype": "text/x-python",
   "name": "python",
   "nbconvert_exporter": "python",
   "pygments_lexer": "ipython3",
   "version": "3.9.4"
  }
 },
 "nbformat": 4,
 "nbformat_minor": 5
}
